{
  "nbformat": 4,
  "nbformat_minor": 0,
  "metadata": {
    "colab": {
      "provenance": [],
      "authorship_tag": "ABX9TyNGHsWPdVTLtGRwy9YTmn+Q",
      "include_colab_link": true
    },
    "kernelspec": {
      "name": "python3",
      "display_name": "Python 3"
    },
    "language_info": {
      "name": "python"
    }
  },
  "cells": [
    {
      "cell_type": "markdown",
      "metadata": {
        "id": "view-in-github",
        "colab_type": "text"
      },
      "source": [
        "<a href=\"https://colab.research.google.com/github/oashaye118/TruBridge_Analytics/blob/main/SecondColabNotebook.ipynb\" target=\"_parent\"><img src=\"https://colab.research.google.com/assets/colab-badge.svg\" alt=\"Open In Colab\"/></a>"
      ]
    },
    {
      "cell_type": "code",
      "execution_count": 12,
      "metadata": {
        "colab": {
          "base_uri": "https://localhost:8080/"
        },
        "id": "MAtbzgvEJCto",
        "outputId": "23e71637-3bbd-4c52-c234-385a5b553b44"
      },
      "outputs": [
        {
          "output_type": "stream",
          "name": "stdout",
          "text": [
            "False\n"
          ]
        }
      ],
      "source": [
        " x = 22\n",
        " y = 28\n",
        "\n",
        " print(x == y)"
      ]
    },
    {
      "cell_type": "code",
      "source": [
        "my_var = 50\n",
        "print('value: ', my_var)"
      ],
      "metadata": {
        "colab": {
          "base_uri": "https://localhost:8080/"
        },
        "id": "HAlnX5onJLK1",
        "outputId": "3b754e8c-163e-45cf-8a1b-0ff0b513ddb1"
      },
      "execution_count": 2,
      "outputs": [
        {
          "output_type": "stream",
          "name": "stdout",
          "text": [
            "value:  50\n"
          ]
        }
      ]
    },
    {
      "cell_type": "code",
      "source": [
        "age = \"48\"\n",
        "print(\"I am\", age, \"years old\")"
      ],
      "metadata": {
        "colab": {
          "base_uri": "https://localhost:8080/"
        },
        "id": "y1KRQEyeJ7cm",
        "outputId": "22fb2b84-6858-4855-e2ca-99ac219eb0c6"
      },
      "execution_count": 9,
      "outputs": [
        {
          "output_type": "stream",
          "name": "stdout",
          "text": [
            "I am 48 years old\n"
          ]
        }
      ]
    },
    {
      "cell_type": "code",
      "source": [
        "a = 17\n",
        "b = 13\n",
        "c = 6\n",
        "\n",
        "#addition\n",
        "print(a+b)\n",
        "print(b+c)\n",
        "print(a+c)\n",
        "print(a+b+c)\n",
        "\n",
        "#subtraction\n",
        "print(a-b)\n",
        "print(b-c)\n",
        "print(a-c)\n",
        "print(a-b-c)\n",
        "\n",
        "#multiplication\n",
        "print(a*b)\n",
        "print(b*c)\n",
        "print(a*c)\n",
        "print(a*b*c)\n",
        "\n",
        "#division\n",
        "print(a/b)\n",
        "print(b/c)\n",
        "print(a/c)\n",
        "print(a/b/c)"
      ],
      "metadata": {
        "colab": {
          "base_uri": "https://localhost:8080/"
        },
        "id": "FLrHZVrmLX7w",
        "outputId": "0a2119d0-f2af-4131-95e3-36eff0a2f1af"
      },
      "execution_count": 11,
      "outputs": [
        {
          "output_type": "stream",
          "name": "stdout",
          "text": [
            "30\n",
            "19\n",
            "23\n",
            "36\n",
            "4\n",
            "7\n",
            "11\n",
            "-2\n",
            "221\n",
            "78\n",
            "102\n",
            "1326\n",
            "1.3076923076923077\n",
            "2.1666666666666665\n",
            "2.8333333333333335\n",
            "0.21794871794871795\n"
          ]
        }
      ]
    },
    {
      "cell_type": "code",
      "source": [
        "num1 = 29\n",
        "num2 = 92\n",
        "print(num1 > 10 and num2 >10)"
      ],
      "metadata": {
        "colab": {
          "base_uri": "https://localhost:8080/"
        },
        "id": "4nMldIIoYq5N",
        "outputId": "31173d06-f25c-44ab-a83a-a3240e3f8a79"
      },
      "execution_count": 14,
      "outputs": [
        {
          "output_type": "stream",
          "name": "stdout",
          "text": [
            "True\n"
          ]
        }
      ]
    },
    {
      "cell_type": "code",
      "source": [
        "print('The womans maiden name is good', end='luck')"
      ],
      "metadata": {
        "colab": {
          "base_uri": "https://localhost:8080/"
        },
        "id": "AWeno9VMaOqQ",
        "outputId": "13804aee-b60d-4ed5-f6d4-e5a60872b6d1"
      },
      "execution_count": 15,
      "outputs": [
        {
          "output_type": "stream",
          "name": "stdout",
          "text": [
            "The womans maiden name is goodluck"
          ]
        }
      ]
    }
  ]
}